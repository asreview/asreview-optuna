{
 "cells": [
  {
   "cell_type": "code",
   "execution_count": 21,
   "metadata": {},
   "outputs": [],
   "source": [
    "import optuna\n",
    "import synergy_dataset as sd\n",
    "from asreview.models.balancers import Balanced\n",
    "from asreview.models.classifiers import NaiveBayes\n",
    "from asreview.models.queriers import Max\n",
    "from asreview.models.feature_extractors import Tfidf\n",
    "import asreview\n",
    "import pandas as pd\n",
    "import numpy as np\n",
    "\n",
    "# Path to your SQLite3 database\n",
    "db_path = \"\""
   ]
  },
  {
   "cell_type": "code",
   "execution_count": 22,
   "metadata": {},
   "outputs": [],
   "source": [
    "def pad_labels(labels, num_priors, num_records):\n",
    "    return pd.Series(labels.tolist() + np.zeros(num_records - len(labels) - num_priors).tolist())"
   ]
  },
  {
   "cell_type": "code",
   "execution_count": 23,
   "metadata": {},
   "outputs": [],
   "source": [
    "study = {\"dataset_id\": \"Leenaars_2019\", \"prior_inclusions\": [2579, 16, 27], \"prior_exclusions\": [1868]}\n",
    "#X = sd.Dataset(\"Meijboom_2021\").to_frame().reset_index()\n",
    "#X = sd.Dataset(\"Radjenovic_2013\").to_frame().reset_index()\n",
    "X = sd.Dataset(study[\"dataset_id\"]).to_frame().reset_index()\n",
    "priors = study[\"prior_inclusions\"] + study[\"prior_exclusions\"]\n",
    "#priors = [122, 1534, 1283] #smid\n",
    "#priors = [1960, 2771, 1632, 5899] #rad\n",
    "#priors = [282, 15, 772] #meij\n",
    "#priors = [531, 434, 129, 119, 437, 362] #meij\n",
    "labels = X[\"label_included\"]"
   ]
  },
  {
   "cell_type": "code",
   "execution_count": 24,
   "metadata": {},
   "outputs": [
    {
     "name": "stderr",
     "output_type": "stream",
     "text": [
      "Relevant records found: 100%|██████████| 17/17 [00:04<00:00,  3.03it/s]\n",
      "Records labeled       :   2%|▏         | 93/5812 [00:04<04:57, 19.24it/s]"
     ]
    },
    {
     "name": "stdout",
     "output_type": "stream",
     "text": [
      "\n",
      "Loss: 0.002\n",
      "NDCG: 0.878\n"
     ]
    },
    {
     "name": "stderr",
     "output_type": "stream",
     "text": [
      "\n"
     ]
    }
   ],
   "source": [
    "study_name = \"ASReview2-full-tfidf-nb-3\"\n",
    "study = optuna.load_study(study_name=study_name, storage=db_path)\n",
    "params = study.best_trial.params\n",
    "\n",
    "alc = asreview.ActiveLearningCycle(\n",
    "    querier=Max(),\n",
    "    classifier=NaiveBayes(alpha=params[\"nb__alpha\"]),\n",
    "    balancer=Balanced(ratio=params['ratio']),\n",
    "    feature_extractor=Tfidf(stop_words=None, ngram_range=(1, 2), sublinear_tf=True, max_df=params[\"tfidf__max_df\"], min_df=params[\"tfidf__min_df\"]),\n",
    ")\n",
    "simulate_ndcg = asreview.Simulate(\n",
    "    X=X,\n",
    "    labels=labels,\n",
    "    cycles=[alc],\n",
    ")\n",
    "# Set priors\n",
    "simulate_ndcg.label(priors)\n",
    "# Start simulation\n",
    "simulate_ndcg.review()\n",
    "\n",
    "\n",
    "df_ndcg = simulate_ndcg._results.dropna(axis=0, subset=\"training_set\")\n",
    "labels_ndcg = pad_labels(df_ndcg[\"label\"].reset_index(drop=True), len(priors), len(X))\n",
    "recall_ndcg = labels_ndcg.cumsum()"
   ]
  },
  {
   "cell_type": "code",
   "execution_count": 25,
   "metadata": {},
   "outputs": [
    {
     "name": "stderr",
     "output_type": "stream",
     "text": [
      "Relevant records found: 100%|██████████| 17/17 [00:02<00:00,  5.10it/s]\n",
      "Records labeled       :   2%|▏         | 102/5812 [00:02<02:39, 35.74it/s]"
     ]
    },
    {
     "name": "stdout",
     "output_type": "stream",
     "text": [
      "\n",
      "Loss: 0.003\n",
      "NDCG: 0.869\n"
     ]
    },
    {
     "name": "stderr",
     "output_type": "stream",
     "text": [
      "\n"
     ]
    }
   ],
   "source": [
    "study_name = \"ASReview2-full-nb-1\"\n",
    "study = optuna.load_study(study_name=study_name, storage=db_path)\n",
    "params = study.best_trial.params\n",
    "\n",
    "alc = asreview.ActiveLearningCycle(\n",
    "    querier=Max(),\n",
    "    classifier=NaiveBayes(alpha=params[\"alpha\"]),\n",
    "    balancer=Balanced(ratio=params['ratio']),\n",
    "    feature_extractor=Tfidf(stop_words=None, ngram_range=(1, 2), sublinear_tf=True, max_df=params[\"tfidf__max_df\"], min_df=params[\"tfidf__min_df\"]),\n",
    ")\n",
    "simulate_loss = asreview.Simulate(\n",
    "    X=X,\n",
    "    labels=labels,\n",
    "    cycles=[alc],\n",
    ")\n",
    "# Set priors\n",
    "simulate_loss.label(priors)\n",
    "# Start simulation\n",
    "simulate_loss.review()\n",
    "\n",
    "df_loss = simulate_loss._results.dropna(axis=0, subset=\"training_set\")\n",
    "labels_loss = pad_labels(df_loss[\"label\"].reset_index(drop=True), len(priors), len(X))\n",
    "recall_loss = labels_loss.cumsum()"
   ]
  },
  {
   "cell_type": "code",
   "execution_count": 26,
   "metadata": {},
   "outputs": [
    {
     "name": "stderr",
     "output_type": "stream",
     "text": [
      "Relevant records found: 100%|██████████| 17/17 [00:01<00:00,  9.96it/s]\n",
      "Records labeled       :   2%|▏         | 128/5812 [00:01<01:04, 88.28it/s] "
     ]
    },
    {
     "name": "stdout",
     "output_type": "stream",
     "text": [
      "\n",
      "Loss: 0.003\n",
      "NDCG: 0.895\n"
     ]
    },
    {
     "name": "stderr",
     "output_type": "stream",
     "text": [
      "\n"
     ]
    }
   ],
   "source": [
    "alc = asreview.ActiveLearningCycle(\n",
    "    querier=Max(),\n",
    "    classifier=NaiveBayes(alpha=3.822),\n",
    "    balancer=Balanced(ratio=1.2),\n",
    "    feature_extractor=Tfidf(stop_words='english', ngram_range=(1, 1)),\n",
    ")\n",
    "simulate_old = asreview.Simulate(\n",
    "    X=X,\n",
    "    labels=labels,\n",
    "    cycles=[alc],\n",
    ")\n",
    "# Set priors\n",
    "simulate_old.label(priors)\n",
    "# Start simulation\n",
    "simulate_old.review()\n",
    "\n",
    "df_old = simulate_old._results.dropna(axis=0, subset=\"training_set\")\n",
    "labels_old = pad_labels(df_old[\"label\"].reset_index(drop=True), len(priors), len(X))\n",
    "recall_old = labels_old.cumsum()"
   ]
  },
  {
   "cell_type": "code",
   "execution_count": 29,
   "metadata": {},
   "outputs": [
    {
     "data": {
      "image/png": "[encoded data removed]",
      "text/plain": [
       "<Figure size 640x480 with 1 Axes>"
      ]
     },
     "metadata": {},
     "output_type": "display_data"
    }
   ],
   "source": [
    "import matplotlib.pyplot as plt\n",
    "combined = pd.DataFrame({\"loss\": recall_loss, \"gain\": recall_ndcg, \"old\": recall_old}) \n",
    "\n",
    "combined.plot()\n",
    "plt.savefig(\"recall_comp.pdf\")"
   ]
  }
 ],
 "metadata": {
  "kernelspec": {
   "display_name": "asreview-2.0",
   "language": "python",
   "name": "python3"
  },
  "language_info": {
   "codemirror_mode": {
    "name": "ipython",
    "version": 3
   },
   "file_extension": ".py",
   "mimetype": "text/x-python",
   "name": "python",
   "nbconvert_exporter": "python",
   "pygments_lexer": "ipython3",
   "version": "3.12.8"
  }
 },
 "nbformat": 4,
 "nbformat_minor": 2
}
