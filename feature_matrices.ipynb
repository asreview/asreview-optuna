{
 "cells": [
  {
   "cell_type": "code",
   "execution_count": null,
   "metadata": {},
   "outputs": [],
   "source": [
    "from pathlib import Path\n",
    "import pickle\n",
    "\n",
    "import synergy_dataset as sd\n",
    "import asreview as asr\n",
    "\n",
    "from asreview.models.feature_extraction import Tfidf\n",
    "\n",
    "print(\"synergy-dataset version\", sd.__version__)\n",
    "print(\"asreview version:\", asr.__version__)"
   ]
  },
  {
   "cell_type": "code",
   "execution_count": null,
   "metadata": {},
   "outputs": [],
   "source": [
    "folder_pickle_files = Path(\"synergy-dataset\", \"pickles\")\n",
    "folder_pickle_files.mkdir(parents=True, exist_ok=True)"
   ]
  },
  {
   "cell_type": "code",
   "execution_count": null,
   "metadata": {},
   "outputs": [],
   "source": [
    "for dataset in sd.iter_datasets():\n",
    "\n",
    "    df = dataset.to_frame().reset_index()\n",
    "\n",
    "    X = Tfidf().fit_transform(df[\"title\"].fillna(\"\").values, df[\"abstract\"].fillna(\"\").values)\n",
    "\n",
    "    with open(folder_pickle_files / f\"{dataset.name}.pkl\", \"wb\") as f:\n",
    "        pickle.dump((X, df[\"label_included\"]), f)\n"
   ]
  }
 ],
 "metadata": {
  "kernelspec": {
   "display_name": "asreview-dev",
   "language": "python",
   "name": "python3"
  },
  "language_info": {
   "codemirror_mode": {
    "name": "ipython",
    "version": 3
   },
   "file_extension": ".py",
   "mimetype": "text/x-python",
   "name": "python",
   "nbconvert_exporter": "python",
   "pygments_lexer": "ipython3",
   "version": "3.12.0"
  }
 },
 "nbformat": 4,
 "nbformat_minor": 2
}
